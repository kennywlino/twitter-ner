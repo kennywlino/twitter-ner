{
 "cells": [
  {
   "cell_type": "markdown",
   "metadata": {
    "slideshow": {
     "slide_type": "slide"
    }
   },
   "source": [
    "# Twitter NER with Neural Nets\n",
    "\n",
    "#### Jovana Urosevic & Kenny Lino\n",
    "##### March 12, 2018"
   ]
  },
  {
   "cell_type": "markdown",
   "metadata": {},
   "source": [
    "## Overview\n",
    "> #### 1.  Task and Motivation\n",
    "> #### 2.  Data\n",
    "> #### 3.  Baseline\n",
    "> #### 4.  Eperiment\n",
    "> #### 5.  Resutls\n",
    "> #### 6.  Conclusion and Future work"
   ]
  },
  {
   "cell_type": "markdown",
   "metadata": {
    "slideshow": {
     "slide_type": "slide"
    }
   },
   "source": [
    "## Motivation"
   ]
  },
  {
   "cell_type": "markdown",
   "metadata": {
    "slideshow": {
     "slide_type": "fragment"
    }
   },
   "source": [
    "#### Why NER?\n",
    "#### Why NER on Twitter?"
   ]
  },
  {
   "cell_type": "markdown",
   "metadata": {
    "slideshow": {
     "slide_type": "fragment"
    }
   },
   "source": [
    "#### Shared Task -  COLING 2016 Workshop on Noisy User-generated text (WNUT):\n",
    "-  Segmentation and categorisation --> predict fine-grained types\n",
    "-  Segmentation only --> no type information is to be predicted"
   ]
  },
  {
   "cell_type": "markdown",
   "metadata": {},
   "source": [
    "## Data\n",
    "* Represented using the ConLL data format:\n",
    "\n",
    "|Sentence   |Label|\n",
    "|-------------|:---------:|\n",
    "|It |O|\n",
    "|sucks |O|\n",
    "|not|O|\n",
    "|to|O|\n",
    "|be|O|\n",
    "|in|O|\n",
    "|Disney |**B-facility**|\n",
    "|world|**I-facility**|\n",
    "|. |O|"
   ]
  },
  {
   "cell_type": "markdown",
   "metadata": {
    "slideshow": {
     "slide_type": "subslide"
    }
   },
   "source": [
    "## Data distribution\n",
    "-  Train, development, test: entities annotated with 10 fine-grained NER categories  <br> "
   ]
  },
  {
   "cell_type": "markdown",
   "metadata": {
    "slideshow": {
     "slide_type": "subslide"
    }
   },
   "source": [
    "|   |Train|Dev|Test|\n",
    "|-------------|---------|------|--------|\n",
    "|company|171|39|621|\n",
    "|facility|104|38|253|\n",
    "|geo-loc|276|116|882|\n",
    "|movie|34|15|34|\n",
    "|music artist|55|41|191|\n",
    "|other|225|132|584|\n",
    "|person|449|171|482|\n",
    "|product|97|37|246|\n",
    "|sports team|51|70|147|\n",
    "|tv show|34|2|33|\n",
    "|Total|1496|1420|3473|\n"
   ]
  },
  {
   "cell_type": "markdown",
   "metadata": {
    "slideshow": {
     "slide_type": "slide"
    }
   },
   "source": [
    "## Baseline System"
   ]
  },
  {
   "cell_type": "markdown",
   "metadata": {
    "slideshow": {
     "slide_type": "subslide"
    }
   },
   "source": [
    "* Based on crfCRFsuite: an implementation of Conditional Random Fields (CRFs) for labeling sequential data"
   ]
  },
  {
   "cell_type": "markdown",
   "metadata": {
    "slideshow": {
     "slide_type": "subslide"
    }
   },
   "source": [
    "|label type   |precision|recall|F1 score|# of phrases|\n",
    "|-------------|---------|------|--------|------------|\n",
    "|company|35.48%|28.21%|31.43| 31|\n",
    "|facility|15.79%|15.79%|15.79|38|\n",
    "|geo-loc|47.69%|53.45%|50.41|130|\n",
    "|movie|0.00%|0.00%|0.00|8|\n",
    "|music artist|0.00%|0.00%|0.00|4|\n",
    "|other|33.33%|22.73%|27.03|90|\n",
    "|person|52.04%|59.65%|55.59|196|\n",
    "|product|7.14%|2.70%|3.92|14|\n",
    "|sports team|40.00%|8.57%|14.12|15|\n",
    "|tv show|0.00%|0.00%|0.00|6|\n",
    "|**AVG**|40.98%|32.98%|36.55|-|"
   ]
  },
  {
   "cell_type": "markdown",
   "metadata": {
    "slideshow": {
     "slide_type": "fragment"
    }
   },
   "source": [
    "Accuracy:  93.85%"
   ]
  },
  {
   "cell_type": "markdown",
   "metadata": {
    "slideshow": {
     "slide_type": "slide"
    }
   },
   "source": [
    "## Experiment\n",
    "* Bidirectional LSTM"
   ]
  },
  {
   "cell_type": "markdown",
   "metadata": {
    "slideshow": {
     "slide_type": "slide"
    }
   },
   "source": [
    "## Results"
   ]
  },
  {
   "cell_type": "markdown",
   "metadata": {
    "slideshow": {
     "slide_type": "slide"
    }
   },
   "source": [
    "## Conclusion \n",
    "*  "
   ]
  },
  {
   "cell_type": "markdown",
   "metadata": {
    "slideshow": {
     "slide_type": "subslide"
    }
   },
   "source": [
    "## Future work\n",
    "*  Word vs. character level"
   ]
  },
  {
   "cell_type": "markdown",
   "metadata": {
    "slideshow": {
     "slide_type": "subslide"
    }
   },
   "source": [
    "*  Orthogaphic features:\n",
    "> 14th MENA FOREX EXPO announced!! <br>\n",
    "> nncc CCCC CCCCC CCCC cccccccccpp <br>"
   ]
  },
  {
   "cell_type": "markdown",
   "metadata": {
    "slideshow": {
     "slide_type": "slide"
    }
   },
   "source": [
    "## Thank you!"
   ]
  },
  {
   "cell_type": "markdown",
   "metadata": {
    "slideshow": {
     "slide_type": "slide"
    }
   },
   "source": [
    "## References"
   ]
  },
  {
   "cell_type": "markdown",
   "metadata": {
    "slideshow": {
     "slide_type": "fragment"
    }
   },
   "source": [
    "1. Benjamin Strauss, Bethany E. Toma, Alan Ritter, Marie-Catherine de Marneffe, Wei Xu. \"Results of the WNUT16 Named Entity Recognition Shared Task.\" NUT@COLING (2016)\n",
    "2. Limsopatham, Nut and Nigel Collier. “Bidirectional LSTM for Named Entity Recognition in Twitter Messages.” NUT@COLING (2016).\n",
    "3. WNUT Named Entity Recognition in Twitter Shared task: https://github.com/aritter/twitter_nlp/tree/master/data/anntated/wnut16"
   ]
  }
 ],
 "metadata": {
  "kernelspec": {
   "display_name": "Python 3",
   "language": "python",
   "name": "python3"
  },
  "language_info": {
   "codemirror_mode": {
    "name": "ipython",
    "version": 3
   },
   "file_extension": ".py",
   "mimetype": "text/x-python",
   "name": "python",
   "nbconvert_exporter": "python",
   "pygments_lexer": "ipython3",
   "version": "3.5.2"
  }
 },
 "nbformat": 4,
 "nbformat_minor": 2
}
